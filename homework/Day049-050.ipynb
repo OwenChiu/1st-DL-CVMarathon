{
 "cells": [
  {
   "cell_type": "markdown",
   "metadata": {},
   "source": [
    "將annotations資料夾裡的xml轉換成csv檔"
   ]
  },
  {
   "cell_type": "code",
   "execution_count": 1,
   "metadata": {},
   "outputs": [],
   "source": [
    "import os\n",
    "import glob\n",
    "import pandas as pd\n",
    "import xml.etree.ElementTree as ET"
   ]
  },
  {
   "cell_type": "code",
   "execution_count": 2,
   "metadata": {},
   "outputs": [],
   "source": [
    "def xml_to_csv(path):\n",
    "    xml_list = []\n",
    "    for xml_file in glob.glob(path + '/*.xml'):\n",
    "        tree = ET.parse(xml_file)\n",
    "        root = tree.getroot()\n",
    "        for member in root.findall('object'):\n",
    "            value = (root.find('filename').text,\n",
    "                     int(root.find('size')[0].text),\n",
    "                     int(root.find('size')[1].text),\n",
    "                     member[0].text,\n",
    "                     int(member[4][0].text),\n",
    "                     int(member[4][1].text),\n",
    "                     int(member[4][2].text),\n",
    "                     int(member[4][3].text)\n",
    "                     )\n",
    "            xml_list.append(value)\n",
    "    column_name = ['filename', 'width', 'height', 'class', 'xmin', 'ymin', 'xmax', 'ymax']\n",
    "    xml_df = pd.DataFrame(xml_list, columns=column_name)\n",
    "    return xml_df"
   ]
  },
  {
   "cell_type": "code",
   "execution_count": 15,
   "metadata": {},
   "outputs": [
    {
     "name": "stdout",
     "output_type": "stream",
     "text": [
      "raccoon_labels.csv already exists\n",
      "kangaroo_labels.csv already exists\n"
     ]
    }
   ],
   "source": [
    "categories_list = ['raccoon', 'kangaroo']\n",
    "categories_path = []\n",
    "annotations_path = []\n",
    "images_path = []\n",
    "\n",
    "for i in range(len(categories_list)):\n",
    "    categories_path.append(os.path.join(os.getcwd(), 'Day049-050\\\\' + categories_list[i] + '\\\\'))\n",
    "    annotations_path.append(os.path.join(os.getcwd(), 'Day049-050\\\\' + categories_list[i] + '\\\\annotations\\\\'))\n",
    "    images_path.append(os.path.join(os.getcwd(), 'Day049-050\\\\' + categories_list[i] + '\\\\images\\\\'))\n",
    "\n",
    "for i in range(len(categories_list)):\n",
    "    destination_path = categories_path[i] + categories_list[i] + '_labels.csv'\n",
    "    if not os.path.exists(destination_path):\n",
    "        xml_df = xml_to_csv(annotations_path[i])\n",
    "        xml_df.to_csv(destination_path, index=None)\n",
    "        print('Successfully converted ' + categories_list[i] + ' xml to csv.')\n",
    "    else:\n",
    "        print(categories_list[i] + '_labels.csv already exists')"
   ]
  },
  {
   "cell_type": "markdown",
   "metadata": {},
   "source": [
    "將資料格式轉為yolo3格式"
   ]
  },
  {
   "cell_type": "code",
   "execution_count": 24,
   "metadata": {
    "scrolled": false
   },
   "outputs": [
    {
     "name": "stdout",
     "output_type": "stream",
     "text": [
      "Successfully converted raccoon csv to yolo3.\n",
      "Successfully converted kangaroo csv to yolo3.\n"
     ]
    }
   ],
   "source": [
    "for i in range(len(categories_list)):\n",
    "    source_path = categories_path[i] + categories_list[i] + '_labels.csv'\n",
    "    destination_path = categories_path[i] + categories_list[i] + '_yolo3.txt'\n",
    "    if not os.path.exists(destination_path):\n",
    "        labels_file = open(source_path, 'r')\n",
    "        labels_line = labels_file.readline() #讀取標題\n",
    "\n",
    "        yolo3_file = open(destination_path, 'w')\n",
    "        \n",
    "        labels_line = labels_file.readline() #讀取第一筆資料\n",
    "        data = labels_line[:-1].split(',')\n",
    "        last_file_name = data[0]\n",
    "        yolo3_file.write(images_path[i] + last_file_name + ' ' + data[4] + ',' + data[5] + ',' + data[6] + ',' + data[7] + ',' + str(i))\n",
    "\n",
    "        while labels_line:\n",
    "            labels_line = labels_file.readline()\n",
    "            if labels_line == '':\n",
    "                break\n",
    "            data = labels_line[:-1].split(',')\n",
    "            \n",
    "            if last_file_name != data[0]:\n",
    "                last_file_name = data[0]\n",
    "                yolo3_file.write('\\n')\n",
    "                yolo3_file.write(images_path[i] + last_file_name + ' ' + data[4] + ',' + data[5] + ',' + data[6] + ',' + data[7] + ',' + str(i))\n",
    "            else:\n",
    "                yolo3_file.write(' ' + data[4] + ',' + data[5] + ',' + data[6] + ',' + data[7] + ',' + str(i))\n",
    "                \n",
    "        yolo3_file.close()\n",
    "        print('Successfully converted ' + categories_list[i] + ' csv to yolo3.')\n",
    "    else:\n",
    "        print(categories_list[i] + '_yolo3.txt already exists')"
   ]
  },
  {
   "cell_type": "code",
   "execution_count": null,
   "metadata": {},
   "outputs": [],
   "source": []
  }
 ],
 "metadata": {
  "kernelspec": {
   "display_name": "Python 3",
   "language": "python",
   "name": "python3"
  },
  "language_info": {
   "codemirror_mode": {
    "name": "ipython",
    "version": 3
   },
   "file_extension": ".py",
   "mimetype": "text/x-python",
   "name": "python",
   "nbconvert_exporter": "python",
   "pygments_lexer": "ipython3",
   "version": "3.7.5"
  }
 },
 "nbformat": 4,
 "nbformat_minor": 2
}
